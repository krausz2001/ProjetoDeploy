{
 "cells": [
  {
   "cell_type": "code",
   "execution_count": 2,
   "id": "2c14ab08",
   "metadata": {},
   "outputs": [],
   "source": [
    "from projetodeploy.utils import sum"
   ]
  },
  {
   "cell_type": "code",
   "execution_count": 4,
   "id": "4b65c24d",
   "metadata": {},
   "outputs": [
    {
     "data": {
      "text/plain": [
       "417"
      ]
     },
     "execution_count": 4,
     "metadata": {},
     "output_type": "execute_result"
    }
   ],
   "source": [
    "sum(5,412)"
   ]
  }
 ],
 "metadata": {
  "kernelspec": {
   "display_name": "ProjetoDeploy",
   "language": "python",
   "name": "python3"
  },
  "language_info": {
   "codemirror_mode": {
    "name": "ipython",
    "version": 3
   },
   "file_extension": ".py",
   "mimetype": "text/x-python",
   "name": "python",
   "nbconvert_exporter": "python",
   "pygments_lexer": "ipython3",
   "version": "3.11.9"
  }
 },
 "nbformat": 4,
 "nbformat_minor": 5
}
