{
 "cells": [
  {
   "cell_type": "code",
   "execution_count": 1,
   "id": "2c14ab08",
   "metadata": {},
   "outputs": [],
   "source": [
    "from projetodeploy.utils import sum\n",
    "from projetodeploy.utils import subtract"
   ]
  },
  {
   "cell_type": "code",
   "execution_count": 3,
   "id": "4b65c24d",
   "metadata": {},
   "outputs": [
    {
     "name": "stdout",
     "output_type": "stream",
     "text": [
      "Sum: 417\n",
      "Subtract: 5\n"
     ]
    }
   ],
   "source": [
    "sum(5,412)\n",
    "subtract(10,5)\n",
    "print(\"Sum:\", sum(5, 412))\n",
    "print(\"Subtract:\", subtract(10, 5))"
   ]
  }
 ],
 "metadata": {
  "kernelspec": {
   "display_name": "ProjetoDeploy",
   "language": "python",
   "name": "python3"
  },
  "language_info": {
   "codemirror_mode": {
    "name": "ipython",
    "version": 3
   },
   "file_extension": ".py",
   "mimetype": "text/x-python",
   "name": "python",
   "nbconvert_exporter": "python",
   "pygments_lexer": "ipython3",
   "version": "3.11.9"
  }
 },
 "nbformat": 4,
 "nbformat_minor": 5
}
